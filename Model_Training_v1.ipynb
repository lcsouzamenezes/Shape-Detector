{
 "cells": [
  {
   "cell_type": "code",
   "execution_count": null,
   "metadata": {},
   "outputs": [],
   "source": [
    "import numpy as np\n",
    "import cv2\n",
    "import os\n",
    "import matplotlib.pyplot as plt\n",
    "from sklearn.model_selection import train_test_split\n",
    "import tensorflow as tf\n",
    "import warnings\n",
    "warnings.filterwarnings('ignore')\n",
    "np.random.seed(1)\n",
    "from keras.preprocessing.image import ImageDataGenerator\n",
    "tf.random.set_seed(1234)\n",
    "import numpy as np\n",
    "import numpy as np\n",
    "import pickle\n",
    "import keras"
   ]
  },
  {
   "cell_type": "code",
   "execution_count": 12,
   "metadata": {},
   "outputs": [
    {
     "name": "stdout",
     "output_type": "stream",
     "text": [
      "Non-Checkbox Labels:  423\n",
      "Checkbox Labels:  508\n",
      "Total Samples available for training:  931\n"
     ]
    }
   ],
   "source": [
    "dirname = 'Checkboxes Training Data'\n",
    "\n",
    "counter = 0\n",
    "classes = []\n",
    "data = []\n",
    "\n",
    "for file in os.listdir(os.path.join(dirname)):\n",
    "    \n",
    "    if (file.split('.')[1]) == 'jpg':\n",
    "    \n",
    "        #read images in grayscale\n",
    "        img = cv2.imread(os.path.join(dirname,file),0)\n",
    "\n",
    "        if file.find('0 (') != -1:\n",
    "            classes.append(0)\n",
    "            resized = cv2.resize(img, (32,32), interpolation = cv2.INTER_LINEAR)\n",
    "            data.append(resized)\n",
    "                    \n",
    "        if file.find('1 (') != -1:\n",
    "            classes.append(1)\n",
    "            resized = cv2.resize(img, (32,32), interpolation = cv2.INTER_LINEAR)\n",
    "            data.append(resized)\n",
    "        \n",
    "        if file.find('2 (') != -1:\n",
    "            classes.append(2)\n",
    "            resized = cv2.resize(img, (32,32), interpolation = cv2.INTER_LINEAR)\n",
    "            data.append(resized)\n",
    "            \n",
    "print('Non-Checkbox Labels: ',classes.count(0))\n",
    "print('Checkbox Labels: ',classes.count(1))\n",
    "\n",
    "data = np.array(data)\n",
    "print('Total Samples available for training: ',data.shape[0])\n",
    "\n",
    "\n",
    "#split the training and test samples\n",
    "X_train_orig, X_test_orig, Y_train_orig,Y_test_orig = train_test_split(data, classes, test_size=0.05, random_state=1)"
   ]
  },
  {
   "cell_type": "code",
   "execution_count": 13,
   "metadata": {},
   "outputs": [
    {
     "name": "stdout",
     "output_type": "stream",
     "text": [
      "class label = 0\n",
      "(32, 32)\n"
     ]
    },
    {
     "data": {
      "image/png": "[encoded data removed]",
      "text/plain": [
       "<Figure size 432x288 with 1 Axes>"
      ]
     },
     "metadata": {
      "needs_background": "light"
     },
     "output_type": "display_data"
    }
   ],
   "source": [
    "#lets just check a random image from the set\n",
    "index = 198\n",
    "plt.imshow(X_train_orig[index],cmap = 'gray')\n",
    "print(\"class label = \" + str(np.squeeze(Y_train_orig[index])))\n",
    "print(X_train_orig[index].shape)"
   ]
  },
  {
   "cell_type": "code",
   "execution_count": 14,
   "metadata": {},
   "outputs": [
    {
     "name": "stdout",
     "output_type": "stream",
     "text": [
      "Model: \"sequential_2\"\n",
      "_________________________________________________________________\n",
      "Layer (type)                 Output Shape              Param #   \n",
      "=================================================================\n",
      "conv2d_6 (Conv2D)            (None, 30, 30, 32)        320       \n",
      "_________________________________________________________________\n",
      "max_pooling2d_6 (MaxPooling2 (None, 15, 15, 32)        0         \n",
      "_________________________________________________________________\n",
      "conv2d_7 (Conv2D)            (None, 13, 13, 64)        18496     \n",
      "_________________________________________________________________\n",
      "max_pooling2d_7 (MaxPooling2 (None, 6, 6, 64)          0         \n",
      "_________________________________________________________________\n",
      "conv2d_8 (Conv2D)            (None, 4, 4, 128)         73856     \n",
      "_________________________________________________________________\n",
      "max_pooling2d_8 (MaxPooling2 (None, 2, 2, 128)         0         \n",
      "_________________________________________________________________\n",
      "flatten_2 (Flatten)          (None, 512)               0         \n",
      "_________________________________________________________________\n",
      "dense_6 (Dense)              (None, 128)               65664     \n",
      "_________________________________________________________________\n",
      "dense_7 (Dense)              (None, 128)               16512     \n",
      "_________________________________________________________________\n",
      "dense_8 (Dense)              (None, 2)                 258       \n",
      "=================================================================\n",
      "Total params: 175,106\n",
      "Trainable params: 175,106\n",
      "Non-trainable params: 0\n",
      "_________________________________________________________________\n"
     ]
    }
   ],
   "source": [
    "#keras things\n",
    "from keras.utils import to_categorical\n",
    "from keras import layers\n",
    "from keras import models\n",
    "from keras.regularizers import l2\n",
    "\n",
    "\n",
    "Y_test_orig = to_categorical(Y_test_orig, num_classes=2) \n",
    "Y_train_orig = to_categorical(Y_train_orig, num_classes=2)\n",
    "\n",
    "# 3 layer ConvNet\n",
    "model = models.Sequential()\n",
    "model.add(layers.Conv2D(32, (3, 3), activation='relu',input_shape=(32,32,1)))\n",
    "model.add(layers.MaxPooling2D((2, 2)))\n",
    "\n",
    "model.add(layers.Conv2D(64, (3, 3), activation='relu'))\n",
    "model.add(layers.MaxPooling2D((2, 2)))\n",
    "\n",
    "model.add(layers.Conv2D(128, (3, 3), activation='relu'))\n",
    "model.add(layers.MaxPooling2D((2, 2)))\n",
    "\n",
    "#dense layer\n",
    "model.add(layers.Flatten())\n",
    "\n",
    "#add the regulizer\n",
    "model.add(layers.Dense(128, activation='linear', activity_regularizer=l2(0.0003)))\n",
    "model.add(layers.Dense(128, activation='relu'))\n",
    "model.add(layers.Dense(2, activation='sigmoid'))  \n",
    "\n",
    "model.summary()"
   ]
  },
  {
   "cell_type": "code",
   "execution_count": 15,
   "metadata": {},
   "outputs": [
    {
     "name": "stdout",
     "output_type": "stream",
     "text": [
      "Epoch 1/64\n",
      "28/27 [==============================] - 3s 116ms/step - loss: 0.6929 - accuracy: 0.5464 - val_loss: 0.6912 - val_accuracy: 0.5319\n",
      "Epoch 2/64\n",
      "28/27 [==============================] - 3s 99ms/step - loss: 0.6897 - accuracy: 0.5475 - val_loss: 0.6960 - val_accuracy: 0.4894\n",
      "Epoch 3/64\n",
      "28/27 [==============================] - 3s 97ms/step - loss: 0.6856 - accuracy: 0.5622 - val_loss: 0.6913 - val_accuracy: 0.5532\n",
      "Epoch 4/64\n",
      "28/27 [==============================] - 2s 87ms/step - loss: 0.6891 - accuracy: 0.5588 - val_loss: 0.6817 - val_accuracy: 0.5745\n",
      "Epoch 5/64\n",
      "28/27 [==============================] - 3s 93ms/step - loss: 0.6846 - accuracy: 0.5724 - val_loss: 0.6775 - val_accuracy: 0.5745\n",
      "Epoch 6/64\n",
      "28/27 [==============================] - 2s 87ms/step - loss: 0.6876 - accuracy: 0.5543 - val_loss: 0.6570 - val_accuracy: 0.6809\n",
      "Epoch 7/64\n",
      "28/27 [==============================] - 3s 97ms/step - loss: 0.6546 - accuracy: 0.6131 - val_loss: 0.5825 - val_accuracy: 0.6170\n",
      "Epoch 8/64\n",
      "28/27 [==============================] - 3s 92ms/step - loss: 0.6325 - accuracy: 0.6233 - val_loss: 0.6413 - val_accuracy: 0.4894\n",
      "Epoch 9/64\n",
      "28/27 [==============================] - 3s 96ms/step - loss: 0.6027 - accuracy: 0.6640 - val_loss: 0.4683 - val_accuracy: 0.8085\n",
      "Epoch 10/64\n",
      "28/27 [==============================] - 3s 104ms/step - loss: 0.5706 - accuracy: 0.6742 - val_loss: 0.4750 - val_accuracy: 0.7447\n",
      "Epoch 11/64\n",
      "28/27 [==============================] - 3s 97ms/step - loss: 0.5433 - accuracy: 0.7172 - val_loss: 0.4182 - val_accuracy: 0.8085\n",
      "Epoch 12/64\n",
      "28/27 [==============================] - 3s 103ms/step - loss: 0.5536 - accuracy: 0.6968 - val_loss: 0.4251 - val_accuracy: 0.8298\n",
      "Epoch 13/64\n",
      "28/27 [==============================] - 3s 100ms/step - loss: 0.5533 - accuracy: 0.6674 - val_loss: 0.4671 - val_accuracy: 0.7872\n",
      "Epoch 14/64\n",
      "28/27 [==============================] - 3s 95ms/step - loss: 0.5154 - accuracy: 0.7477 - val_loss: 0.4144 - val_accuracy: 0.8298\n",
      "Epoch 15/64\n",
      "28/27 [==============================] - 2s 85ms/step - loss: 0.5133 - accuracy: 0.7274 - val_loss: 0.4543 - val_accuracy: 0.8085\n",
      "Epoch 16/64\n",
      "28/27 [==============================] - 2s 86ms/step - loss: 0.4993 - accuracy: 0.7500 - val_loss: 0.3905 - val_accuracy: 0.7660\n",
      "Epoch 17/64\n",
      "28/27 [==============================] - 2s 88ms/step - loss: 0.4688 - accuracy: 0.7805 - val_loss: 0.4156 - val_accuracy: 0.8298\n",
      "Epoch 18/64\n",
      "28/27 [==============================] - 2s 85ms/step - loss: 0.4968 - accuracy: 0.7443 - val_loss: 0.5085 - val_accuracy: 0.8085\n",
      "Epoch 19/64\n",
      "28/27 [==============================] - 2s 86ms/step - loss: 0.4882 - accuracy: 0.7602 - val_loss: 0.4454 - val_accuracy: 0.8298\n",
      "Epoch 20/64\n",
      "28/27 [==============================] - 3s 93ms/step - loss: 0.4596 - accuracy: 0.7658 - val_loss: 0.2976 - val_accuracy: 0.9149\n",
      "Epoch 21/64\n",
      "28/27 [==============================] - 2s 85ms/step - loss: 0.4397 - accuracy: 0.7885 - val_loss: 0.3903 - val_accuracy: 0.8298\n",
      "Epoch 22/64\n",
      "28/27 [==============================] - 3s 93ms/step - loss: 0.4563 - accuracy: 0.7534 - val_loss: 0.4411 - val_accuracy: 0.8085\n",
      "Epoch 23/64\n",
      "28/27 [==============================] - 2s 81ms/step - loss: 0.4740 - accuracy: 0.7613 - val_loss: 0.4147 - val_accuracy: 0.8085\n",
      "Epoch 24/64\n",
      "28/27 [==============================] - 3s 95ms/step - loss: 0.4357 - accuracy: 0.7862 - val_loss: 0.3600 - val_accuracy: 0.8723\n",
      "Epoch 25/64\n",
      "28/27 [==============================] - 2s 81ms/step - loss: 0.4921 - accuracy: 0.7636 - val_loss: 0.4083 - val_accuracy: 0.7872: 0.4540 \n",
      "Epoch 26/64\n",
      "28/27 [==============================] - 2s 87ms/step - loss: 0.4673 - accuracy: 0.7862 - val_loss: 0.3969 - val_accuracy: 0.8723\n",
      "Epoch 27/64\n",
      "28/27 [==============================] - 2s 88ms/step - loss: 0.4535 - accuracy: 0.7715 - val_loss: 0.3711 - val_accuracy: 0.8511\n",
      "Epoch 28/64\n",
      "28/27 [==============================] - 2s 85ms/step - loss: 0.4466 - accuracy: 0.7851 - val_loss: 0.2845 - val_accuracy: 0.8723\n",
      "Epoch 29/64\n",
      "28/27 [==============================] - 2s 85ms/step - loss: 0.4250 - accuracy: 0.8066 - val_loss: 0.3947 - val_accuracy: 0.8511\n",
      "Epoch 30/64\n",
      "28/27 [==============================] - 2s 80ms/step - loss: 0.4278 - accuracy: 0.8032 - val_loss: 0.3103 - val_accuracy: 0.8936\n",
      "Epoch 31/64\n",
      "28/27 [==============================] - 2s 88ms/step - loss: 0.4021 - accuracy: 0.8145 - val_loss: 0.3473 - val_accuracy: 0.8511\n",
      "Epoch 32/64\n",
      "28/27 [==============================] - 2s 85ms/step - loss: 0.4170 - accuracy: 0.8009 - val_loss: 0.2690 - val_accuracy: 0.8723\n",
      "Epoch 33/64\n",
      "28/27 [==============================] - 2s 80ms/step - loss: 0.4110 - accuracy: 0.8020 - val_loss: 0.3669 - val_accuracy: 0.8298\n",
      "Epoch 34/64\n",
      "28/27 [==============================] - 2s 88ms/step - loss: 0.3813 - accuracy: 0.8179 - val_loss: 0.3133 - val_accuracy: 0.8298\n",
      "Epoch 35/64\n",
      "28/27 [==============================] - 3s 93ms/step - loss: 0.4114 - accuracy: 0.8077 - val_loss: 0.3806 - val_accuracy: 0.8723\n",
      "Epoch 36/64\n",
      "28/27 [==============================] - 2s 84ms/step - loss: 0.4089 - accuracy: 0.8133 - val_loss: 0.3269 - val_accuracy: 0.8511\n",
      "Epoch 37/64\n",
      "28/27 [==============================] - 3s 92ms/step - loss: 0.4046 - accuracy: 0.8077 - val_loss: 0.3645 - val_accuracy: 0.8085\n",
      "Epoch 38/64\n",
      "28/27 [==============================] - 2s 89ms/step - loss: 0.4037 - accuracy: 0.7998 - val_loss: 0.4370 - val_accuracy: 0.7872\n",
      "Epoch 39/64\n",
      "28/27 [==============================] - 2s 85ms/step - loss: 0.3783 - accuracy: 0.8190 - val_loss: 0.3897 - val_accuracy: 0.8298\n",
      "Epoch 40/64\n",
      "28/27 [==============================] - 2s 86ms/step - loss: 0.3750 - accuracy: 0.8258 - val_loss: 0.3484 - val_accuracy: 0.8936\n",
      "Epoch 41/64\n",
      "28/27 [==============================] - 2s 86ms/step - loss: 0.3507 - accuracy: 0.8394 - val_loss: 0.3477 - val_accuracy: 0.8511\n",
      "Epoch 42/64\n",
      "28/27 [==============================] - 2s 81ms/step - loss: 0.3671 - accuracy: 0.8382 - val_loss: 0.3163 - val_accuracy: 0.8511\n",
      "Epoch 43/64\n",
      "28/27 [==============================] - 3s 92ms/step - loss: 0.3654 - accuracy: 0.8269 - val_loss: 0.3358 - val_accuracy: 0.8723\n",
      "Epoch 44/64\n",
      "28/27 [==============================] - 2s 85ms/step - loss: 0.3578 - accuracy: 0.8462 - val_loss: 0.3072 - val_accuracy: 0.8723\n",
      "Epoch 45/64\n",
      "28/27 [==============================] - 2s 86ms/step - loss: 0.3905 - accuracy: 0.8224 - val_loss: 0.3462 - val_accuracy: 0.8723\n",
      "Epoch 46/64\n",
      "28/27 [==============================] - 3s 89ms/step - loss: 0.3488 - accuracy: 0.8382 - val_loss: 0.3159 - val_accuracy: 0.8511\n",
      "Epoch 47/64\n",
      "28/27 [==============================] - 2s 86ms/step - loss: 0.3392 - accuracy: 0.8529 - val_loss: 0.3478 - val_accuracy: 0.8511\n",
      "Epoch 48/64\n",
      "28/27 [==============================] - 2s 84ms/step - loss: 0.3404 - accuracy: 0.8473 - val_loss: 0.2579 - val_accuracy: 0.8511\n",
      "Epoch 49/64\n",
      "28/27 [==============================] - 3s 96ms/step - loss: 0.3400 - accuracy: 0.8507 - val_loss: 0.3605 - val_accuracy: 0.8723\n",
      "Epoch 50/64\n",
      "28/27 [==============================] - 3s 100ms/step - loss: 0.3523 - accuracy: 0.8394 - val_loss: 0.4037 - val_accuracy: 0.7872\n",
      "Epoch 51/64\n",
      "28/27 [==============================] - 3s 96ms/step - loss: 0.3408 - accuracy: 0.8507 - val_loss: 0.3375 - val_accuracy: 0.8511\n",
      "Epoch 52/64\n",
      "28/27 [==============================] - 3s 102ms/step - loss: 0.3385 - accuracy: 0.8507 - val_loss: 0.3148 - val_accuracy: 0.8511\n",
      "Epoch 53/64\n",
      "28/27 [==============================] - 3s 101ms/step - loss: 0.3742 - accuracy: 0.8292 - val_loss: 0.3066 - val_accuracy: 0.8511\n",
      "Epoch 54/64\n",
      "28/27 [==============================] - 2s 88ms/step - loss: 0.3533 - accuracy: 0.8405 - val_loss: 0.3866 - val_accuracy: 0.7872\n",
      "Epoch 55/64\n",
      "28/27 [==============================] - 3s 93ms/step - loss: 0.3187 - accuracy: 0.8654 - val_loss: 0.3214 - val_accuracy: 0.8298\n",
      "Epoch 56/64\n",
      "28/27 [==============================] - 3s 100ms/step - loss: 0.3122 - accuracy: 0.8620 - val_loss: 0.4215 - val_accuracy: 0.7872\n",
      "Epoch 57/64\n",
      "28/27 [==============================] - 3s 94ms/step - loss: 0.3252 - accuracy: 0.8597 - val_loss: 0.3476 - val_accuracy: 0.8511\n",
      "Epoch 58/64\n"
     ]
    },
    {
     "name": "stdout",
     "output_type": "stream",
     "text": [
      "28/27 [==============================] - 2s 88ms/step - loss: 0.3153 - accuracy: 0.8563 - val_loss: 0.3909 - val_accuracy: 0.8723\n",
      "Epoch 59/64\n",
      "28/27 [==============================] - 3s 92ms/step - loss: 0.3358 - accuracy: 0.8495 - val_loss: 0.2956 - val_accuracy: 0.8511\n",
      "Epoch 60/64\n",
      "28/27 [==============================] - 3s 98ms/step - loss: 0.3047 - accuracy: 0.8688 - val_loss: 0.3236 - val_accuracy: 0.8298\n",
      "Epoch 61/64\n",
      "28/27 [==============================] - 2s 85ms/step - loss: 0.2965 - accuracy: 0.8722 - val_loss: 0.3014 - val_accuracy: 0.8723\n",
      "Epoch 62/64\n",
      "28/27 [==============================] - 2s 88ms/step - loss: 0.2824 - accuracy: 0.8778 - val_loss: 0.2308 - val_accuracy: 0.9149\n",
      "Epoch 63/64\n",
      "28/27 [==============================] - 2s 78ms/step - loss: 0.2885 - accuracy: 0.8744 - val_loss: 0.3412 - val_accuracy: 0.8723\n",
      "Epoch 64/64\n",
      "28/27 [==============================] - 2s 86ms/step - loss: 0.2929 - accuracy: 0.8710 - val_loss: 0.2946 - val_accuracy: 0.8298\n"
     ]
    }
   ],
   "source": [
    "from keras.optimizers import Adam\n",
    "opt = Adam(lr=0.001)\n",
    "model.compile(optimizer=opt, loss=keras.losses.categorical_crossentropy, metrics=['accuracy'])\n",
    "\n",
    "ntrain = len(X_train_orig)\n",
    "nval = len(X_test_orig)\n",
    "X_train_orig = X_train_orig.reshape((len(X_train_orig),32,32,1)) \n",
    "X_test_orig = X_test_orig.reshape((len(X_test_orig),32,32,1))\n",
    "\n",
    "train_datagen = ImageDataGenerator(rescale = 1./255,rotation_range = 40, width_shift_range = .2,\n",
    "                                  height_shift_range = .2, shear_range = .2, zoom_range =  .2, horizontal_flip = True)\n",
    "\n",
    "val_datagen = ImageDataGenerator(rescale = 1./255)\n",
    "\n",
    "train_generator = train_datagen.flow(X_train_orig,Y_train_orig,batch_size=32)\n",
    "val_generator = val_datagen.flow(X_test_orig,Y_test_orig,batch_size = 32)\n",
    "\n",
    "\n",
    "#X_train_orig, X_test_orig, Y_train_orig,Y_test_orig\n",
    "history = model.fit_generator(train_generator,steps_per_epoch = ntrain/32, epochs = 64, validation_data = val_generator, validation_steps = nval/32  )\n"
   ]
  },
  {
   "cell_type": "code",
   "execution_count": 16,
   "metadata": {},
   "outputs": [
    {
     "data": {
      "image/png": "[encoded data removed]",
      "text/plain": [
       "<Figure size 432x288 with 1 Axes>"
      ]
     },
     "metadata": {
      "needs_background": "light"
     },
     "output_type": "display_data"
    },
    {
     "data": {
      "image/png": "[encoded data removed]",
      "text/plain": [
       "<Figure size 432x288 with 1 Axes>"
      ]
     },
     "metadata": {
      "needs_background": "light"
     },
     "output_type": "display_data"
    }
   ],
   "source": [
    "\n",
    "#lets plot the train and val curve, get the details form the history object\n",
    "acc = history.history['accuracy']\n",
    "val_acc = history.history['val_accuracy']\n",
    "loss = history.history['loss']\n",
    "val_loss = history.history['val_loss']\n",
    "\n",
    "epochs = range(1, len(acc) + 1)\n",
    "\n",
    "#Train and validation accuracy\n",
    "plt.plot(epochs, acc, 'b', label='Training accurarcy')\n",
    "plt.plot(epochs, val_acc, 'r', label='Validation accurarcy')\n",
    "plt.title('Training and Validation accurarcy')\n",
    "plt.legend()\n",
    "plt.figure()\n",
    "\n",
    "#Train and validation loss\n",
    "plt.plot(epochs, loss, 'b', label='Training loss')\n",
    "plt.plot(epochs, val_loss, 'r', label='Validation loss')\n",
    "plt.title('Training and Validation loss')\n",
    "plt.legend()\n",
    "\n",
    "plt.show()"
   ]
  },
  {
   "cell_type": "code",
   "execution_count": 17,
   "metadata": {},
   "outputs": [
    {
     "name": "stdout",
     "output_type": "stream",
     "text": [
      "32/32 [==============================] - 1s 20ms/step - loss: 0.2957 - accuracy: 0.8298\n",
      "Validation Accuracy: 82.98\n",
      "32/32 [==============================] - 1s 47ms/step - loss: 0.2799 - accuracy: 0.8656\n",
      "Training Accuracy: 86.56\n"
     ]
    }
   ],
   "source": [
    "_, accuracy = model.evaluate(val_generator,steps = 32)\n",
    "print('Validation Accuracy: %.2f' % (accuracy*100))\n",
    "\n",
    "_, accuracy = model.evaluate(train_generator,steps = 32)\n",
    "print('Training Accuracy: %.2f' % (accuracy*100))\n",
    "\n",
    "model.save('checkbox_keras_model_v1.h5')\n"
   ]
  }
 ],
 "metadata": {
  "kernelspec": {
   "display_name": "Python 3",
   "language": "python",
   "name": "python3"
  },
  "language_info": {
   "codemirror_mode": {
    "name": "ipython",
    "version": 3
   },
   "file_extension": ".py",
   "mimetype": "text/x-python",
   "name": "python",
   "nbconvert_exporter": "python",
   "pygments_lexer": "ipython3",
   "version": "3.7.3"
  }
 },
 "nbformat": 4,
 "nbformat_minor": 2
}
