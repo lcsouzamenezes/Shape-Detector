{
 "cells": [
  {
   "cell_type": "code",
   "execution_count": 1,
   "metadata": {},
   "outputs": [],
   "source": [
    "import numpy as np\n",
    "import cv2\n",
    "import os\n",
    "import matplotlib.pyplot as plt\n",
    "from sklearn.model_selection import train_test_split\n",
    "import tensorflow as tf\n",
    "import warnings\n",
    "warnings.filterwarnings('ignore')\n",
    "np.random.seed(1)\n",
    "from keras.preprocessing.image import ImageDataGenerator\n",
    "tf.random.set_seed(1234)\n",
    "import numpy as np\n",
    "import numpy as np\n",
    "import pickle\n",
    "import keras"
   ]
  },
  {
   "cell_type": "code",
   "execution_count": 2,
   "metadata": {},
   "outputs": [],
   "source": [
    "dirname = 'Radio Training Data'"
   ]
  },
  {
   "cell_type": "code",
   "execution_count": 3,
   "metadata": {},
   "outputs": [],
   "source": [
    "counter = 0\n",
    "classes = []\n",
    "data = []\n",
    "\n",
    "for file in os.listdir(os.path.join(dirname)):\n",
    "    if (file.split('.')[1]) == 'jpg':\n",
    "        #print(os.path.join(dirname,file))\n",
    "     \n",
    "        #read images in grayscale\n",
    "        img = cv2.imread(os.path.join(dirname,file),0)\n",
    "\n",
    "        if file.find('0 (') != -1:\n",
    "            classes.append(0)\n",
    "            resized = cv2.resize(img, (32,32), interpolation = cv2.INTER_LINEAR)\n",
    "            data.append(resized)\n",
    "                    \n",
    "        if file.find('1 (') != -1:\n",
    "            classes.append(1)\n",
    "            resized = cv2.resize(img, (32,32), interpolation = cv2.INTER_LINEAR)\n",
    "            data.append(resized)\n",
    "        \n",
    "        if file.find('2 (') != -1:\n",
    "            classes.append(2)\n",
    "            resized = cv2.resize(img, (32,32), interpolation = cv2.INTER_LINEAR)\n",
    "            data.append(resized)"
   ]
  },
  {
   "cell_type": "code",
   "execution_count": 4,
   "metadata": {},
   "outputs": [
    {
     "name": "stdout",
     "output_type": "stream",
     "text": [
      "478\n",
      "293\n"
     ]
    },
    {
     "data": {
      "text/plain": [
       "(771, 32, 32)"
      ]
     },
     "execution_count": 4,
     "metadata": {},
     "output_type": "execute_result"
    }
   ],
   "source": [
    "\n",
    "print(classes.count(0))\n",
    "print(classes.count(1))\n",
    "#print(classes.count(2))\n",
    "\n",
    "data = np.array(data)\n",
    "data.shape"
   ]
  },
  {
   "cell_type": "code",
   "execution_count": 5,
   "metadata": {},
   "outputs": [],
   "source": [
    "X_train_orig, X_test_orig, Y_train_orig,Y_test_orig = train_test_split(data, classes, test_size=0.05, random_state=1)"
   ]
  },
  {
   "cell_type": "code",
   "execution_count": 6,
   "metadata": {},
   "outputs": [
    {
     "name": "stdout",
     "output_type": "stream",
     "text": [
      "y = 0\n",
      "(32, 32)\n"
     ]
    },
    {
     "data": {
      "image/png": "[encoded data removed]",
      "text/plain": [
       "<Figure size 432x288 with 1 Axes>"
      ]
     },
     "metadata": {
      "needs_background": "light"
     },
     "output_type": "display_data"
    }
   ],
   "source": [
    "\n",
    "# In[ ]:\n",
    "\n",
    "\n",
    "index = 198\n",
    "plt.imshow(X_train_orig[index],cmap = 'gray')\n",
    "print(\"y = \" + str(np.squeeze(Y_train_orig[index])))\n",
    "print(X_train_orig[index].shape)"
   ]
  },
  {
   "cell_type": "code",
   "execution_count": 7,
   "metadata": {},
   "outputs": [],
   "source": [
    "from keras.utils import to_categorical\n",
    "Y_test_orig = to_categorical(Y_test_orig, num_classes=2) \n",
    "Y_train_orig = to_categorical(Y_train_orig, num_classes=2)"
   ]
  },
  {
   "cell_type": "code",
   "execution_count": 8,
   "metadata": {},
   "outputs": [],
   "source": [
    "\n",
    "from keras import layers\n",
    "from keras import models\n",
    "from keras import optimizers\n",
    "from keras.preprocessing.image import ImageDataGenerator\n",
    "from keras.preprocessing.image import img_to_array, load_img\n",
    "# import regularizer\n",
    "from keras.regularizers import l2\n",
    "# instantiate regularizer\n",
    "#reg = l1(0.001)\n",
    "\n",
    "model = models.Sequential()\n",
    "model.add(layers.Conv2D(32, (3, 3), activation='relu',input_shape=(32,32,1)))\n",
    "model.add(layers.MaxPooling2D((2, 2)))\n",
    "\n",
    "model.add(layers.Conv2D(64, (3, 3), activation='relu'))\n",
    "model.add(layers.MaxPooling2D((2, 2)))\n",
    "\n",
    "model.add(layers.Conv2D(128, (3, 3), activation='relu'))\n",
    "model.add(layers.MaxPooling2D((2, 2)))\n",
    "\n",
    "#model.add(layers.Conv2D(128, (3, 3), activation='relu'))\n",
    "#model.add(layers.MaxPooling2D((2, 2)))\n",
    "model.add(layers.Flatten())\n",
    "#model.add(layers.Dropout(0.5))  #Dropout for regularization\n",
    "#model.add(layers.Dropout(0.50))  #Dropout for regularization\n",
    "\n",
    "model.add(layers.Dense(128, activation='linear', activity_regularizer=l2(0.0003)))\n",
    "model.add(layers.Dense(128, activation='relu'))\n",
    "#model.add(layers.Dense(512, activation='relu', activity_regularizer=l2(0.0001)))\n",
    "model.add(layers.Dense(2, activation='softmax'))  #Softwamx function at the end because we have 3 classes\n"
   ]
  },
  {
   "cell_type": "code",
   "execution_count": 9,
   "metadata": {},
   "outputs": [
    {
     "name": "stdout",
     "output_type": "stream",
     "text": [
      "Model: \"sequential\"\n",
      "_________________________________________________________________\n",
      "Layer (type)                 Output Shape              Param #   \n",
      "=================================================================\n",
      "conv2d (Conv2D)              (None, 30, 30, 32)        320       \n",
      "_________________________________________________________________\n",
      "max_pooling2d (MaxPooling2D) (None, 15, 15, 32)        0         \n",
      "_________________________________________________________________\n",
      "conv2d_1 (Conv2D)            (None, 13, 13, 64)        18496     \n",
      "_________________________________________________________________\n",
      "max_pooling2d_1 (MaxPooling2 (None, 6, 6, 64)          0         \n",
      "_________________________________________________________________\n",
      "conv2d_2 (Conv2D)            (None, 4, 4, 128)         73856     \n",
      "_________________________________________________________________\n",
      "max_pooling2d_2 (MaxPooling2 (None, 2, 2, 128)         0         \n",
      "_________________________________________________________________\n",
      "flatten (Flatten)            (None, 512)               0         \n",
      "_________________________________________________________________\n",
      "dense (Dense)                (None, 128)               65664     \n",
      "_________________________________________________________________\n",
      "dense_1 (Dense)              (None, 128)               16512     \n",
      "_________________________________________________________________\n",
      "dense_2 (Dense)              (None, 2)                 258       \n",
      "=================================================================\n",
      "Total params: 175,106\n",
      "Trainable params: 175,106\n",
      "Non-trainable params: 0\n",
      "_________________________________________________________________\n"
     ]
    }
   ],
   "source": [
    "model.summary()"
   ]
  },
  {
   "cell_type": "code",
   "execution_count": 10,
   "metadata": {},
   "outputs": [],
   "source": [
    "from keras.optimizers import Adam\n",
    "opt = Adam(lr=0.001)\n",
    "#print(categorical_labels.shape)\n",
    "model.compile(optimizer=opt, loss=keras.losses.categorical_crossentropy, metrics=['accuracy'])"
   ]
  },
  {
   "cell_type": "code",
   "execution_count": 11,
   "metadata": {},
   "outputs": [
    {
     "name": "stderr",
     "output_type": "stream",
     "text": [
      "WARNING: Logging before flag parsing goes to stderr.\n",
      "W0801 16:22:00.055947 17492 deprecation.py:323] From <ipython-input-11-7b080943151f>:22: Model.fit_generator (from tensorflow.python.keras.engine.training) is deprecated and will be removed in a future version.\n",
      "Instructions for updating:\n",
      "Please use Model.fit, which supports generators.\n"
     ]
    },
    {
     "name": "stdout",
     "output_type": "stream",
     "text": [
      "(732, 32, 32, 1)\n",
      "(39, 32, 32, 1)\n",
      "Epoch 1/64\n",
      "23/22 [==============================] - 3s 142ms/step - loss: 0.6437 - accuracy: 0.6107 - val_loss: 0.6322 - val_accuracy: 0.5641\n",
      "Epoch 2/64\n",
      "23/22 [==============================] - 2s 99ms/step - loss: 0.6115 - accuracy: 0.6366 - val_loss: 0.5653 - val_accuracy: 0.6667\n",
      "Epoch 3/64\n",
      "23/22 [==============================] - 3s 115ms/step - loss: 0.5885 - accuracy: 0.6776 - val_loss: 0.4764 - val_accuracy: 0.8205\n",
      "Epoch 4/64\n",
      "23/22 [==============================] - 2s 108ms/step - loss: 0.5551 - accuracy: 0.7199 - val_loss: 0.4968 - val_accuracy: 0.7436\n",
      "Epoch 5/64\n",
      "23/22 [==============================] - 2s 96ms/step - loss: 0.5327 - accuracy: 0.7350 - val_loss: 0.4232 - val_accuracy: 0.8974\n",
      "Epoch 6/64\n",
      "23/22 [==============================] - 2s 96ms/step - loss: 0.5107 - accuracy: 0.7473 - val_loss: 0.4113 - val_accuracy: 0.8462\n",
      "Epoch 7/64\n",
      "23/22 [==============================] - 3s 111ms/step - loss: 0.5310 - accuracy: 0.7268 - val_loss: 0.4833 - val_accuracy: 0.7436\n",
      "Epoch 8/64\n",
      "23/22 [==============================] - 2s 94ms/step - loss: 0.5233 - accuracy: 0.7377 - val_loss: 0.3726 - val_accuracy: 0.8462\n",
      "Epoch 9/64\n",
      "23/22 [==============================] - 2s 102ms/step - loss: 0.4449 - accuracy: 0.7801 - val_loss: 0.4292 - val_accuracy: 0.7949\n",
      "Epoch 10/64\n",
      "23/22 [==============================] - 2s 102ms/step - loss: 0.5203 - accuracy: 0.7541 - val_loss: 0.4537 - val_accuracy: 0.7436\n",
      "Epoch 11/64\n",
      "23/22 [==============================] - 2s 102ms/step - loss: 0.4728 - accuracy: 0.7828 - val_loss: 0.3974 - val_accuracy: 0.8205\n",
      "Epoch 12/64\n",
      "23/22 [==============================] - 2s 103ms/step - loss: 0.4584 - accuracy: 0.7842 - val_loss: 0.3960 - val_accuracy: 0.7692\n",
      "Epoch 13/64\n",
      "23/22 [==============================] - 2s 96ms/step - loss: 0.4396 - accuracy: 0.7992 - val_loss: 0.3135 - val_accuracy: 0.8462\n",
      "Epoch 14/64\n",
      "23/22 [==============================] - 2s 86ms/step - loss: 0.4253 - accuracy: 0.7951 - val_loss: 0.2902 - val_accuracy: 0.8718\n",
      "Epoch 15/64\n",
      "23/22 [==============================] - 2s 94ms/step - loss: 0.4288 - accuracy: 0.8265 - val_loss: 0.3230 - val_accuracy: 0.8205\n",
      "Epoch 16/64\n",
      "23/22 [==============================] - 2s 95ms/step - loss: 0.4279 - accuracy: 0.8128 - val_loss: 0.3863 - val_accuracy: 0.7692\n",
      "Epoch 17/64\n",
      "23/22 [==============================] - 2s 101ms/step - loss: 0.3905 - accuracy: 0.8388 - val_loss: 0.2535 - val_accuracy: 0.8462\n",
      "Epoch 18/64\n",
      "23/22 [==============================] - 2s 98ms/step - loss: 0.3886 - accuracy: 0.8320 - val_loss: 0.2690 - val_accuracy: 0.9231\n",
      "Epoch 19/64\n",
      "23/22 [==============================] - 2s 94ms/step - loss: 0.4289 - accuracy: 0.8087 - val_loss: 0.2677 - val_accuracy: 0.8718\n",
      "Epoch 20/64\n",
      "23/22 [==============================] - 2s 95ms/step - loss: 0.3680 - accuracy: 0.8361 - val_loss: 0.2436 - val_accuracy: 0.9487\n",
      "Epoch 21/64\n",
      "23/22 [==============================] - 2s 97ms/step - loss: 0.3575 - accuracy: 0.8497 - val_loss: 0.2447 - val_accuracy: 0.8974\n",
      "Epoch 22/64\n",
      "23/22 [==============================] - 2s 89ms/step - loss: 0.3901 - accuracy: 0.8374 - val_loss: 0.3184 - val_accuracy: 0.8462\n",
      "Epoch 23/64\n",
      "23/22 [==============================] - 2s 94ms/step - loss: 0.3531 - accuracy: 0.8484 - val_loss: 0.2285 - val_accuracy: 0.9487\n",
      "Epoch 24/64\n",
      "23/22 [==============================] - 2s 102ms/step - loss: 0.3412 - accuracy: 0.8648 - val_loss: 0.1297 - val_accuracy: 1.0000\n",
      "Epoch 25/64\n",
      "23/22 [==============================] - 2s 91ms/step - loss: 0.3428 - accuracy: 0.8593 - val_loss: 0.3404 - val_accuracy: 0.7692\n",
      "Epoch 26/64\n",
      "23/22 [==============================] - 2s 93ms/step - loss: 0.3496 - accuracy: 0.8497 - val_loss: 0.1633 - val_accuracy: 0.9487\n",
      "Epoch 27/64\n",
      "23/22 [==============================] - 2s 102ms/step - loss: 0.3424 - accuracy: 0.8443 - val_loss: 0.1793 - val_accuracy: 0.9487\n",
      "Epoch 28/64\n",
      "23/22 [==============================] - 2s 91ms/step - loss: 0.3699 - accuracy: 0.8415 - val_loss: 0.2390 - val_accuracy: 0.8974\n",
      "Epoch 29/64\n",
      "23/22 [==============================] - 2s 94ms/step - loss: 0.3297 - accuracy: 0.8648 - val_loss: 0.2001 - val_accuracy: 0.9231\n",
      "Epoch 30/64\n",
      "23/22 [==============================] - 2s 102ms/step - loss: 0.2859 - accuracy: 0.8825 - val_loss: 0.2512 - val_accuracy: 0.8974\n",
      "Epoch 31/64\n",
      "23/22 [==============================] - 2s 104ms/step - loss: 0.3313 - accuracy: 0.8675 - val_loss: 0.3197 - val_accuracy: 0.7179\n",
      "Epoch 32/64\n",
      "23/22 [==============================] - 2s 98ms/step - loss: 0.2716 - accuracy: 0.8921 - val_loss: 0.2843 - val_accuracy: 0.7949\n",
      "Epoch 33/64\n",
      "23/22 [==============================] - 2s 86ms/step - loss: 0.3083 - accuracy: 0.8784 - val_loss: 0.2035 - val_accuracy: 0.9231\n",
      "Epoch 34/64\n",
      "23/22 [==============================] - 2s 103ms/step - loss: 0.2750 - accuracy: 0.8825 - val_loss: 0.1162 - val_accuracy: 0.9744\n",
      "Epoch 35/64\n",
      "23/22 [==============================] - 2s 94ms/step - loss: 0.2857 - accuracy: 0.8757 - val_loss: 0.1956 - val_accuracy: 0.8974\n",
      "Epoch 36/64\n",
      "23/22 [==============================] - 2s 97ms/step - loss: 0.2695 - accuracy: 0.8880 - val_loss: 0.0975 - val_accuracy: 0.9744\n",
      "Epoch 37/64\n",
      "23/22 [==============================] - 2s 98ms/step - loss: 0.2950 - accuracy: 0.8716 - val_loss: 0.1548 - val_accuracy: 0.9487\n",
      "Epoch 38/64\n",
      "23/22 [==============================] - 2s 102ms/step - loss: 0.2691 - accuracy: 0.8743 - val_loss: 0.1478 - val_accuracy: 0.9487\n",
      "Epoch 39/64\n",
      "23/22 [==============================] - 2s 95ms/step - loss: 0.2722 - accuracy: 0.8893 - val_loss: 0.0862 - val_accuracy: 0.9487\n",
      "Epoch 40/64\n",
      "23/22 [==============================] - 2s 88ms/step - loss: 0.2845 - accuracy: 0.8866 - val_loss: 0.0863 - val_accuracy: 0.9744\n",
      "Epoch 41/64\n",
      "23/22 [==============================] - 2s 97ms/step - loss: 0.2713 - accuracy: 0.8921 - val_loss: 0.2382 - val_accuracy: 0.8974\n",
      "Epoch 42/64\n",
      "23/22 [==============================] - 2s 99ms/step - loss: 0.2616 - accuracy: 0.8880 - val_loss: 0.3451 - val_accuracy: 0.7436\n",
      "Epoch 43/64\n",
      "23/22 [==============================] - 2s 95ms/step - loss: 0.2931 - accuracy: 0.8730 - val_loss: 0.1533 - val_accuracy: 0.9487\n",
      "Epoch 44/64\n",
      "23/22 [==============================] - 2s 104ms/step - loss: 0.2332 - accuracy: 0.8989 - val_loss: 0.1242 - val_accuracy: 0.9744\n",
      "Epoch 45/64\n",
      "23/22 [==============================] - 2s 99ms/step - loss: 0.2180 - accuracy: 0.9057 - val_loss: 0.1060 - val_accuracy: 0.9487\n",
      "Epoch 46/64\n",
      "23/22 [==============================] - 2s 93ms/step - loss: 0.2538 - accuracy: 0.8880 - val_loss: 0.1888 - val_accuracy: 0.9487\n",
      "Epoch 47/64\n",
      "23/22 [==============================] - 2s 95ms/step - loss: 0.2604 - accuracy: 0.8907 - val_loss: 0.1075 - val_accuracy: 0.9487\n",
      "Epoch 48/64\n",
      "23/22 [==============================] - 2s 103ms/step - loss: 0.2341 - accuracy: 0.9085 - val_loss: 0.0968 - val_accuracy: 0.9487\n",
      "Epoch 49/64\n",
      "23/22 [==============================] - 2s 97ms/step - loss: 0.2190 - accuracy: 0.9057 - val_loss: 0.1820 - val_accuracy: 0.9487\n",
      "Epoch 50/64\n",
      "23/22 [==============================] - 2s 93ms/step - loss: 0.2347 - accuracy: 0.8975 - val_loss: 0.2450 - val_accuracy: 0.9231\n",
      "Epoch 51/64\n",
      "23/22 [==============================] - 2s 107ms/step - loss: 0.2202 - accuracy: 0.9071 - val_loss: 0.1416 - val_accuracy: 0.9231\n",
      "Epoch 52/64\n",
      "23/22 [==============================] - 3s 127ms/step - loss: 0.2054 - accuracy: 0.9153 - val_loss: 0.1224 - val_accuracy: 0.9487\n",
      "Epoch 53/64\n",
      "23/22 [==============================] - 3s 113ms/step - loss: 0.2023 - accuracy: 0.9235 - val_loss: 0.1152 - val_accuracy: 0.9744\n",
      "Epoch 54/64\n",
      "23/22 [==============================] - 2s 99ms/step - loss: 0.2151 - accuracy: 0.9208 - val_loss: 0.0847 - val_accuracy: 0.9744\n",
      "Epoch 55/64\n",
      "23/22 [==============================] - 2s 98ms/step - loss: 0.1727 - accuracy: 0.9235 - val_loss: 0.0754 - val_accuracy: 0.9744\n",
      "Epoch 56/64\n",
      "23/22 [==============================] - 2s 93ms/step - loss: 0.2404 - accuracy: 0.9057 - val_loss: 0.0769 - val_accuracy: 1.0000\n",
      "Epoch 57/64\n",
      "23/22 [==============================] - 2s 103ms/step - loss: 0.2193 - accuracy: 0.9221 - val_loss: 0.1704 - val_accuracy: 0.9487\n",
      "Epoch 58/64\n"
     ]
    },
    {
     "name": "stdout",
     "output_type": "stream",
     "text": [
      "23/22 [==============================] - 2s 97ms/step - loss: 0.1947 - accuracy: 0.9235 - val_loss: 0.1797 - val_accuracy: 0.9487\n",
      "Epoch 59/64\n",
      "23/22 [==============================] - 2s 96ms/step - loss: 0.2082 - accuracy: 0.9085 - val_loss: 0.1823 - val_accuracy: 0.9231\n",
      "Epoch 60/64\n",
      "23/22 [==============================] - 2s 98ms/step - loss: 0.2226 - accuracy: 0.9194 - val_loss: 0.0965 - val_accuracy: 0.9744\n",
      "Epoch 61/64\n",
      "23/22 [==============================] - 2s 93ms/step - loss: 0.2070 - accuracy: 0.9262 - val_loss: 0.1189 - val_accuracy: 0.9487\n",
      "Epoch 62/64\n",
      "23/22 [==============================] - 2s 94ms/step - loss: 0.1749 - accuracy: 0.9331 - val_loss: 0.1380 - val_accuracy: 0.9487\n",
      "Epoch 63/64\n",
      "23/22 [==============================] - 2s 96ms/step - loss: 0.2029 - accuracy: 0.9235 - val_loss: 0.0371 - val_accuracy: 1.0000\n",
      "Epoch 64/64\n",
      "23/22 [==============================] - 2s 99ms/step - loss: 0.1881 - accuracy: 0.9249 - val_loss: 0.0638 - val_accuracy: 1.0000\n"
     ]
    }
   ],
   "source": [
    "\n",
    "# In[ ]:\n",
    "\n",
    "\n",
    "ntrain = len(X_train_orig)\n",
    "nval = len(X_test_orig)\n",
    "X_train_orig = X_train_orig.reshape((len(X_train_orig),32,32,1)) \n",
    "X_test_orig = X_test_orig.reshape((len(X_test_orig),32,32,1))\n",
    "\n",
    "print(X_train_orig.shape)\n",
    "print(X_test_orig.shape)\n",
    "\n",
    "train_datagen = ImageDataGenerator(rescale = 1./255,rotation_range = 40, width_shift_range = .2,\n",
    "                                  height_shift_range = .2, shear_range = .2, zoom_range =  .2, horizontal_flip = True)\n",
    "\n",
    "val_datagen = ImageDataGenerator(rescale = 1./255)\n",
    "\n",
    "train_generator = train_datagen.flow(X_train_orig,Y_train_orig,batch_size=32)\n",
    "val_generator = val_datagen.flow(X_test_orig,Y_test_orig,batch_size = 32)\n",
    "\n",
    "\n",
    "#X_train_orig, X_test_orig, Y_train_orig,Y_test_orig\n",
    "history = model.fit_generator(train_generator,steps_per_epoch = ntrain/32, epochs = 64, validation_data = val_generator, validation_steps = nval/32  )\n"
   ]
  },
  {
   "cell_type": "code",
   "execution_count": 15,
   "metadata": {},
   "outputs": [
    {
     "name": "stdout",
     "output_type": "stream",
     "text": [
      "dict_keys(['loss', 'accuracy', 'val_loss', 'val_accuracy'])\n"
     ]
    }
   ],
   "source": [
    "# list all data in history\n",
    "print(history.history.keys())"
   ]
  },
  {
   "cell_type": "code",
   "execution_count": 16,
   "metadata": {},
   "outputs": [
    {
     "data": {
      "image/png": "[encoded data removed]",
      "text/plain": [
       "<Figure size 432x288 with 1 Axes>"
      ]
     },
     "metadata": {
      "needs_background": "light"
     },
     "output_type": "display_data"
    },
    {
     "data": {
      "image/png": "[encoded data removed]",
      "text/plain": [
       "<Figure size 432x288 with 1 Axes>"
      ]
     },
     "metadata": {
      "needs_background": "light"
     },
     "output_type": "display_data"
    }
   ],
   "source": [
    "# In[ ]:\n",
    "\n",
    "\n",
    "#lets plot the train and val curve\n",
    "#get the details form the history object\n",
    "acc = history.history['accuracy']\n",
    "val_acc = history.history['val_accuracy']\n",
    "loss = history.history['loss']\n",
    "val_loss = history.history['val_loss']\n",
    "\n",
    "epochs = range(1, len(acc) + 1)\n",
    "\n",
    "#Train and validation accuracy\n",
    "plt.plot(epochs, acc, 'b', label='Training accurarcy')\n",
    "plt.plot(epochs, val_acc, 'r', label='Validation accurarcy')\n",
    "plt.title('Training and Validation accurarcy')\n",
    "plt.legend()\n",
    "\n",
    "plt.figure()\n",
    "#Train and validation loss\n",
    "plt.plot(epochs, loss, 'b', label='Training loss')\n",
    "plt.plot(epochs, val_loss, 'r', label='Validation loss')\n",
    "plt.title('Training and Validation loss')\n",
    "plt.legend()\n",
    "\n",
    "plt.show()"
   ]
  },
  {
   "cell_type": "code",
   "execution_count": 22,
   "metadata": {},
   "outputs": [
    {
     "name": "stdout",
     "output_type": "stream",
     "text": [
      "32/32 [==============================] - 0s 5ms/step - loss: 0.0726 - accuracy: 1.0000\n",
      "Validation Accuracy: 100.00\n",
      "32/32 [==============================] - 0s 12ms/step - loss: 0.1791 - accuracy: 0.9341\n",
      "Training Accuracy: 93.41\n"
     ]
    }
   ],
   "source": [
    "\n",
    "_, accuracy = model.evaluate(val_generator,steps = 32)\n",
    "print('Validation Accuracy: %.2f' % (accuracy*100))\n",
    "\n",
    "_, accuracy = model.evaluate(train_generator,steps = 32)\n",
    "print('Training Accuracy: %.2f' % (accuracy*100))\n",
    "\n",
    "model.save(r'C:\\Users\\AlienTech\\Desktop\\Interview\\Code\\Checkbox\\radioBt_keras_model_v1.h5')\n",
    "# ### Save the model\n",
    "# with open(r'C:\\Users\\AlienTech\\Desktop\\Interview\\Code\\Checkbox\\checkbox_keras_model_v1.pickle', 'w') as f:\n",
    "#          pickle.dump(model, f)\n",
    "# f.close()"
   ]
  },
  {
   "cell_type": "code",
   "execution_count": 18,
   "metadata": {},
   "outputs": [],
   "source": [
    "test_dir = r'C:\\Users\\AlienTech\\Desktop\\Interview\\Code\\Checkbox\\Radio Test Models'"
   ]
  },
  {
   "cell_type": "code",
   "execution_count": 20,
   "metadata": {},
   "outputs": [
    {
     "data": {
      "image/png": "[encoded data removed]",
      "text/plain": [
       "<Figure size 432x288 with 1 Axes>"
      ]
     },
     "metadata": {
      "needs_background": "light"
     },
     "output_type": "display_data"
    },
    {
     "data": {
      "image/png": "[encoded data removed]",
      "text/plain": [
       "<Figure size 432x288 with 1 Axes>"
      ]
     },
     "metadata": {
      "needs_background": "light"
     },
     "output_type": "display_data"
    },
    {
     "data": {
      "image/png": "[encoded data removed]",
      "text/plain": [
       "<Figure size 432x288 with 1 Axes>"
      ]
     },
     "metadata": {
      "needs_background": "light"
     },
     "output_type": "display_data"
    },
    {
     "data": {
      "image/png": "[encoded data removed]",
      "text/plain": [
       "<Figure size 432x288 with 1 Axes>"
      ]
     },
     "metadata": {
      "needs_background": "light"
     },
     "output_type": "display_data"
    },
    {
     "data": {
      "image/png": "[encoded data removed]",
      "text/plain": [
       "<Figure size 432x288 with 1 Axes>"
      ]
     },
     "metadata": {
      "needs_background": "light"
     },
     "output_type": "display_data"
    },
    {
     "data": {
      "image/png": "[encoded data removed]",
      "text/plain": [
       "<Figure size 432x288 with 1 Axes>"
      ]
     },
     "metadata": {
      "needs_background": "light"
     },
     "output_type": "display_data"
    },
    {
     "name": "stderr",
     "output_type": "stream",
     "text": [
      "W0801 17:33:36.863604 17492 deprecation.py:323] From <ipython-input-20-51e429d1922c>:21: Sequential.predict_proba (from tensorflow.python.keras.engine.sequential) is deprecated and will be removed after 2021-01-01.\n",
      "Instructions for updating:\n",
      "Please use `model.predict()` instead.\n"
     ]
    },
    {
     "data": {
      "text/plain": [
       "array([[9.9996305e-01, 3.6968471e-05],\n",
       "       [3.2892859e-01, 6.7107147e-01],\n",
       "       [1.4957822e-03, 9.9850428e-01],\n",
       "       [2.6749977e-01, 7.3250014e-01],\n",
       "       [2.5514665e-01, 7.4485338e-01],\n",
       "       [9.6902579e-01, 3.0974211e-02]], dtype=float32)"
      ]
     },
     "execution_count": 20,
     "metadata": {},
     "output_type": "execute_result"
    }
   ],
   "source": [
    "checkbox = []\n",
    "for x in os.listdir(test_dir):\n",
    "    #print(x)\n",
    "    roi = cv2.imread(os.path.join(test_dir,x),0)\n",
    "    \n",
    "    resized_roi = cv2.resize(roi, (32,32), interpolation = cv2.INTER_LINEAR)\n",
    "    plt.imshow(resized_roi,cmap = 'gray')\n",
    "    plt.show()\n",
    "    \n",
    "    resized_roi = resized_roi.reshape((resized_roi.shape)+(1,))\n",
    "    \n",
    "    checkbox.append(resized_roi)\n",
    "    #print(resized_roi.shape)\n",
    "    #plt.imshow(resized_roi)\n",
    "    #plt.show()\n",
    "    \n",
    "checkbox = np.array(checkbox)\n",
    "checkbox.shape\n",
    "#model.predict(checkbox/255)\n",
    "#model.predict_classes(checkbox/255)\n",
    "model.predict_proba(checkbox/255)"
   ]
  },
  {
   "cell_type": "code",
   "execution_count": null,
   "metadata": {},
   "outputs": [],
   "source": []
  }
 ],
 "metadata": {
  "kernelspec": {
   "display_name": "Python 3",
   "language": "python",
   "name": "python3"
  },
  "language_info": {
   "codemirror_mode": {
    "name": "ipython",
    "version": 3
   },
   "file_extension": ".py",
   "mimetype": "text/x-python",
   "name": "python",
   "nbconvert_exporter": "python",
   "pygments_lexer": "ipython3",
   "version": "3.7.3"
  }
 },
 "nbformat": 4,
 "nbformat_minor": 2
}
